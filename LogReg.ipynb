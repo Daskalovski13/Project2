{
 "cells": [
  {
   "cell_type": "code",
   "execution_count": 29,
   "metadata": {},
   "outputs": [],
   "source": [
    "import pandas as pd\n",
    "import os\n",
    "import numpy as np\n",
    "\n",
    "from tensorflow.keras.models import Sequential\n",
    "from tensorflow.keras.layers import Dense\n",
    "from tensorflow.keras.utils import to_categorical\n",
    "import tensorflow as tf\n",
    "from sklearn.model_selection import train_test_split\n",
    "from sklearn.preprocessing import StandardScaler, OneHotEncoder\n",
    "from sklearn.metrics import confusion_matrix, accuracy_score, roc_auc_score\n"
   ]
  },
  {
   "cell_type": "code",
   "execution_count": 2,
   "metadata": {},
   "outputs": [],
   "source": [
    "# Trying to set the seed\n",
    "np.random.seed(0)\n",
    "import random\n",
    "random.seed(0)\n",
    "\n",
    "# Reading file into data frame\n",
    "cwd = os.getcwd()\n",
    "filename = cwd + '/CreditCard.xls'\n",
    "nanDict = {}\n",
    "df = pd.read_excel(filename, header=1, skiprows=0, index_col=0, na_values=nanDict)\n"
   ]
  },
  {
   "cell_type": "code",
   "execution_count": 3,
   "metadata": {},
   "outputs": [],
   "source": [
    "df.rename(index=str, columns={\"default payment next month\": \"defaultPaymentNextMonth\"}, inplace=True)\n",
    "\n",
    "# Features and targets \n",
    "X = df.loc[:, df.columns != 'defaultPaymentNextMonth'].values\n",
    "y = df.loc[:, df.columns == 'defaultPaymentNextMonth'].values"
   ]
  },
  {
   "cell_type": "code",
   "execution_count": 4,
   "metadata": {},
   "outputs": [
    {
     "name": "stderr",
     "output_type": "stream",
     "text": [
      "C:\\Users\\Milos\\Anaconda3\\envs\\python2.7\\lib\\site-packages\\sklearn\\preprocessing\\_encoders.py:368: FutureWarning: The handling of integer data will change in version 0.22. Currently, the categories are determined based on the range [0, max(values)], while in the future they will be determined based on the unique values.\n",
      "If you want the future behaviour and silence this warning, you can specify \"categories='auto'\".\n",
      "In case you used a LabelEncoder before this OneHotEncoder to convert the categories to integers, then you can now use the OneHotEncoder directly.\n",
      "  warnings.warn(msg, FutureWarning)\n",
      "C:\\Users\\Milos\\Anaconda3\\envs\\python2.7\\lib\\site-packages\\sklearn\\preprocessing\\_encoders.py:390: DeprecationWarning: The 'categorical_features' keyword is deprecated in version 0.20 and will be removed in 0.22. You can use the ColumnTransformer instead.\n",
      "  \"use the ColumnTransformer instead.\", DeprecationWarning)\n"
     ]
    }
   ],
   "source": [
    "# Categorical variables to one-hot's\n",
    "onehotencoder = OneHotEncoder(categorical_features = [3])\n",
    "X = onehotencoder.fit_transform(X).toarray()\n",
    "X = X[:, 1:] \n"
   ]
  },
  {
   "cell_type": "code",
   "execution_count": 5,
   "metadata": {},
   "outputs": [],
   "source": [
    "# Train-test split\n",
    "trainingShare = 0.5 \n",
    "seed  = 1\n",
    "XTrain, XTest, yTrain, yTest=train_test_split(X, y, train_size=trainingShare, \\\n",
    "                                              test_size = 1-trainingShare,\n",
    "                                             random_state=seed)"
   ]
  },
  {
   "cell_type": "code",
   "execution_count": 6,
   "metadata": {},
   "outputs": [],
   "source": [
    "# Input Scaling\n",
    "sc = StandardScaler()\n",
    "XTrain = sc.fit_transform(XTrain)\n",
    "XTest = sc.transform(XTest)"
   ]
  },
  {
   "cell_type": "code",
   "execution_count": 7,
   "metadata": {},
   "outputs": [],
   "source": [
    "# One-hot's of the target vector\n",
    "Y_train_onehot, Y_test_onehot = to_categorical(yTrain), to_categorical(yTest)"
   ]
  },
  {
   "cell_type": "code",
   "execution_count": 8,
   "metadata": {},
   "outputs": [
    {
     "name": "stdout",
     "output_type": "stream",
     "text": [
      "Number of empty elements in data:  False\n",
      "Observations:  28497\n",
      "Percentage defaults:  21.31452433589501\n"
     ]
    }
   ],
   "source": [
    "df = df.drop(df[(df.BILL_AMT1 == 0) &\n",
    "                (df.BILL_AMT2 == 0) &\n",
    "                (df.BILL_AMT3 == 0) &\n",
    "                (df.BILL_AMT4 == 0) &\n",
    "                (df.BILL_AMT5 == 0) &\n",
    "                (df.BILL_AMT6 == 0) &\n",
    "                (df.PAY_AMT1 == 0) &\n",
    "                (df.PAY_AMT2 == 0) &\n",
    "                (df.PAY_AMT3 == 0) &\n",
    "                (df.PAY_AMT4 == 0) &\n",
    "                (df.PAY_AMT5 == 0) &\n",
    "                (df.PAY_AMT6 == 0)].index)\n",
    "\n",
    "df = df.drop(df[(df.BILL_AMT1 == 0) &\n",
    "                (df.BILL_AMT2 == 0) &\n",
    "                (df.BILL_AMT3 == 0) &\n",
    "                (df.BILL_AMT4 == 0) &\n",
    "                (df.BILL_AMT5 == 0) &\n",
    "                (df.BILL_AMT6 == 0)].index)\n",
    "\n",
    "df = df.drop(df[(df.PAY_AMT1 == 0) &\n",
    "                (df.PAY_AMT2 == 0) &\n",
    "                (df.PAY_AMT3 == 0) &\n",
    "                (df.PAY_AMT4 == 0) &\n",
    "                (df.PAY_AMT5 == 0) &\n",
    "                (df.PAY_AMT6 == 0)].index)\n",
    "\n",
    "# Descriptive information\n",
    "print('Number of empty elements in data: ', df.isnull().values.any())\n",
    "print('Observations: ', df.shape[0])\n",
    "print('Percentage defaults: ', df['defaultPaymentNextMonth'].astype(bool).sum(axis=0)/df.shape[0]*100)"
   ]
  },
  {
   "cell_type": "code",
   "execution_count": 9,
   "metadata": {},
   "outputs": [
    {
     "name": "stderr",
     "output_type": "stream",
     "text": [
      "C:\\Users\\Milos\\Anaconda3\\envs\\python2.7\\lib\\site-packages\\sklearn\\linear_model\\logistic.py:433: FutureWarning: Default solver will be changed to 'lbfgs' in 0.22. Specify a solver to silence this warning.\n",
      "  FutureWarning)\n",
      "C:\\Users\\Milos\\Anaconda3\\envs\\python2.7\\lib\\site-packages\\sklearn\\linear_model\\logistic.py:433: FutureWarning: Default solver will be changed to 'lbfgs' in 0.22. Specify a solver to silence this warning.\n",
      "  FutureWarning)\n",
      "C:\\Users\\Milos\\Anaconda3\\envs\\python2.7\\lib\\site-packages\\sklearn\\linear_model\\logistic.py:433: FutureWarning: Default solver will be changed to 'lbfgs' in 0.22. Specify a solver to silence this warning.\n",
      "  FutureWarning)\n",
      "C:\\Users\\Milos\\Anaconda3\\envs\\python2.7\\lib\\site-packages\\sklearn\\linear_model\\logistic.py:433: FutureWarning: Default solver will be changed to 'lbfgs' in 0.22. Specify a solver to silence this warning.\n",
      "  FutureWarning)\n",
      "C:\\Users\\Milos\\Anaconda3\\envs\\python2.7\\lib\\site-packages\\sklearn\\linear_model\\logistic.py:433: FutureWarning: Default solver will be changed to 'lbfgs' in 0.22. Specify a solver to silence this warning.\n",
      "  FutureWarning)\n",
      "C:\\Users\\Milos\\Anaconda3\\envs\\python2.7\\lib\\site-packages\\sklearn\\linear_model\\logistic.py:433: FutureWarning: Default solver will be changed to 'lbfgs' in 0.22. Specify a solver to silence this warning.\n",
      "  FutureWarning)\n",
      "C:\\Users\\Milos\\Anaconda3\\envs\\python2.7\\lib\\site-packages\\sklearn\\linear_model\\logistic.py:433: FutureWarning: Default solver will be changed to 'lbfgs' in 0.22. Specify a solver to silence this warning.\n",
      "  FutureWarning)\n",
      "C:\\Users\\Milos\\Anaconda3\\envs\\python2.7\\lib\\site-packages\\sklearn\\linear_model\\logistic.py:433: FutureWarning: Default solver will be changed to 'lbfgs' in 0.22. Specify a solver to silence this warning.\n",
      "  FutureWarning)\n",
      "C:\\Users\\Milos\\Anaconda3\\envs\\python2.7\\lib\\site-packages\\sklearn\\linear_model\\logistic.py:433: FutureWarning: Default solver will be changed to 'lbfgs' in 0.22. Specify a solver to silence this warning.\n",
      "  FutureWarning)\n",
      "C:\\Users\\Milos\\Anaconda3\\envs\\python2.7\\lib\\site-packages\\sklearn\\linear_model\\logistic.py:433: FutureWarning: Default solver will be changed to 'lbfgs' in 0.22. Specify a solver to silence this warning.\n",
      "  FutureWarning)\n",
      "C:\\Users\\Milos\\Anaconda3\\envs\\python2.7\\lib\\site-packages\\sklearn\\linear_model\\logistic.py:433: FutureWarning: Default solver will be changed to 'lbfgs' in 0.22. Specify a solver to silence this warning.\n",
      "  FutureWarning)\n",
      "C:\\Users\\Milos\\Anaconda3\\envs\\python2.7\\lib\\site-packages\\sklearn\\linear_model\\logistic.py:433: FutureWarning: Default solver will be changed to 'lbfgs' in 0.22. Specify a solver to silence this warning.\n",
      "  FutureWarning)\n",
      "C:\\Users\\Milos\\Anaconda3\\envs\\python2.7\\lib\\site-packages\\sklearn\\linear_model\\logistic.py:433: FutureWarning: Default solver will be changed to 'lbfgs' in 0.22. Specify a solver to silence this warning.\n",
      "  FutureWarning)\n",
      "C:\\Users\\Milos\\Anaconda3\\envs\\python2.7\\lib\\site-packages\\sklearn\\linear_model\\logistic.py:433: FutureWarning: Default solver will be changed to 'lbfgs' in 0.22. Specify a solver to silence this warning.\n",
      "  FutureWarning)\n",
      "C:\\Users\\Milos\\Anaconda3\\envs\\python2.7\\lib\\site-packages\\sklearn\\linear_model\\logistic.py:433: FutureWarning: Default solver will be changed to 'lbfgs' in 0.22. Specify a solver to silence this warning.\n",
      "  FutureWarning)\n",
      "C:\\Users\\Milos\\Anaconda3\\envs\\python2.7\\lib\\site-packages\\sklearn\\linear_model\\logistic.py:433: FutureWarning: Default solver will be changed to 'lbfgs' in 0.22. Specify a solver to silence this warning.\n",
      "  FutureWarning)\n",
      "C:\\Users\\Milos\\Anaconda3\\envs\\python2.7\\lib\\site-packages\\sklearn\\linear_model\\logistic.py:433: FutureWarning: Default solver will be changed to 'lbfgs' in 0.22. Specify a solver to silence this warning.\n",
      "  FutureWarning)\n",
      "C:\\Users\\Milos\\Anaconda3\\envs\\python2.7\\lib\\site-packages\\sklearn\\linear_model\\logistic.py:433: FutureWarning: Default solver will be changed to 'lbfgs' in 0.22. Specify a solver to silence this warning.\n",
      "  FutureWarning)\n",
      "C:\\Users\\Milos\\Anaconda3\\envs\\python2.7\\lib\\site-packages\\sklearn\\linear_model\\logistic.py:433: FutureWarning: Default solver will be changed to 'lbfgs' in 0.22. Specify a solver to silence this warning.\n",
      "  FutureWarning)\n",
      "C:\\Users\\Milos\\Anaconda3\\envs\\python2.7\\lib\\site-packages\\sklearn\\linear_model\\logistic.py:433: FutureWarning: Default solver will be changed to 'lbfgs' in 0.22. Specify a solver to silence this warning.\n",
      "  FutureWarning)\n",
      "C:\\Users\\Milos\\Anaconda3\\envs\\python2.7\\lib\\site-packages\\sklearn\\linear_model\\logistic.py:433: FutureWarning: Default solver will be changed to 'lbfgs' in 0.22. Specify a solver to silence this warning.\n",
      "  FutureWarning)\n",
      "C:\\Users\\Milos\\Anaconda3\\envs\\python2.7\\lib\\site-packages\\sklearn\\linear_model\\logistic.py:433: FutureWarning: Default solver will be changed to 'lbfgs' in 0.22. Specify a solver to silence this warning.\n",
      "  FutureWarning)\n",
      "C:\\Users\\Milos\\Anaconda3\\envs\\python2.7\\lib\\site-packages\\sklearn\\linear_model\\logistic.py:433: FutureWarning: Default solver will be changed to 'lbfgs' in 0.22. Specify a solver to silence this warning.\n",
      "  FutureWarning)\n",
      "C:\\Users\\Milos\\Anaconda3\\envs\\python2.7\\lib\\site-packages\\sklearn\\linear_model\\logistic.py:433: FutureWarning: Default solver will be changed to 'lbfgs' in 0.22. Specify a solver to silence this warning.\n",
      "  FutureWarning)\n",
      "C:\\Users\\Milos\\Anaconda3\\envs\\python2.7\\lib\\site-packages\\sklearn\\linear_model\\logistic.py:433: FutureWarning: Default solver will be changed to 'lbfgs' in 0.22. Specify a solver to silence this warning.\n",
      "  FutureWarning)\n",
      "C:\\Users\\Milos\\Anaconda3\\envs\\python2.7\\lib\\site-packages\\sklearn\\linear_model\\logistic.py:433: FutureWarning: Default solver will be changed to 'lbfgs' in 0.22. Specify a solver to silence this warning.\n",
      "  FutureWarning)\n",
      "C:\\Users\\Milos\\Anaconda3\\envs\\python2.7\\lib\\site-packages\\sklearn\\linear_model\\logistic.py:433: FutureWarning: Default solver will be changed to 'lbfgs' in 0.22. Specify a solver to silence this warning.\n",
      "  FutureWarning)\n",
      "C:\\Users\\Milos\\Anaconda3\\envs\\python2.7\\lib\\site-packages\\sklearn\\linear_model\\logistic.py:433: FutureWarning: Default solver will be changed to 'lbfgs' in 0.22. Specify a solver to silence this warning.\n",
      "  FutureWarning)\n",
      "C:\\Users\\Milos\\Anaconda3\\envs\\python2.7\\lib\\site-packages\\sklearn\\linear_model\\logistic.py:433: FutureWarning: Default solver will be changed to 'lbfgs' in 0.22. Specify a solver to silence this warning.\n",
      "  FutureWarning)\n",
      "C:\\Users\\Milos\\Anaconda3\\envs\\python2.7\\lib\\site-packages\\sklearn\\linear_model\\logistic.py:433: FutureWarning: Default solver will be changed to 'lbfgs' in 0.22. Specify a solver to silence this warning.\n",
      "  FutureWarning)\n",
      "C:\\Users\\Milos\\Anaconda3\\envs\\python2.7\\lib\\site-packages\\sklearn\\linear_model\\logistic.py:433: FutureWarning: Default solver will be changed to 'lbfgs' in 0.22. Specify a solver to silence this warning.\n",
      "  FutureWarning)\n",
      "C:\\Users\\Milos\\Anaconda3\\envs\\python2.7\\lib\\site-packages\\sklearn\\linear_model\\logistic.py:433: FutureWarning: Default solver will be changed to 'lbfgs' in 0.22. Specify a solver to silence this warning.\n",
      "  FutureWarning)\n",
      "C:\\Users\\Milos\\Anaconda3\\envs\\python2.7\\lib\\site-packages\\sklearn\\linear_model\\logistic.py:433: FutureWarning: Default solver will be changed to 'lbfgs' in 0.22. Specify a solver to silence this warning.\n",
      "  FutureWarning)\n",
      "C:\\Users\\Milos\\Anaconda3\\envs\\python2.7\\lib\\site-packages\\sklearn\\linear_model\\logistic.py:433: FutureWarning: Default solver will be changed to 'lbfgs' in 0.22. Specify a solver to silence this warning.\n",
      "  FutureWarning)\n",
      "C:\\Users\\Milos\\Anaconda3\\envs\\python2.7\\lib\\site-packages\\sklearn\\linear_model\\logistic.py:433: FutureWarning: Default solver will be changed to 'lbfgs' in 0.22. Specify a solver to silence this warning.\n",
      "  FutureWarning)\n",
      "C:\\Users\\Milos\\Anaconda3\\envs\\python2.7\\lib\\site-packages\\sklearn\\linear_model\\logistic.py:433: FutureWarning: Default solver will be changed to 'lbfgs' in 0.22. Specify a solver to silence this warning.\n",
      "  FutureWarning)\n",
      "C:\\Users\\Milos\\Anaconda3\\envs\\python2.7\\lib\\site-packages\\sklearn\\linear_model\\logistic.py:433: FutureWarning: Default solver will be changed to 'lbfgs' in 0.22. Specify a solver to silence this warning.\n",
      "  FutureWarning)\n",
      "C:\\Users\\Milos\\Anaconda3\\envs\\python2.7\\lib\\site-packages\\sklearn\\linear_model\\logistic.py:433: FutureWarning: Default solver will be changed to 'lbfgs' in 0.22. Specify a solver to silence this warning.\n",
      "  FutureWarning)\n",
      "C:\\Users\\Milos\\Anaconda3\\envs\\python2.7\\lib\\site-packages\\sklearn\\linear_model\\logistic.py:433: FutureWarning: Default solver will be changed to 'lbfgs' in 0.22. Specify a solver to silence this warning.\n",
      "  FutureWarning)\n"
     ]
    },
    {
     "name": "stderr",
     "output_type": "stream",
     "text": [
      "C:\\Users\\Milos\\Anaconda3\\envs\\python2.7\\lib\\site-packages\\sklearn\\linear_model\\logistic.py:433: FutureWarning: Default solver will be changed to 'lbfgs' in 0.22. Specify a solver to silence this warning.\n",
      "  FutureWarning)\n",
      "C:\\Users\\Milos\\Anaconda3\\envs\\python2.7\\lib\\site-packages\\sklearn\\linear_model\\logistic.py:433: FutureWarning: Default solver will be changed to 'lbfgs' in 0.22. Specify a solver to silence this warning.\n",
      "  FutureWarning)\n",
      "C:\\Users\\Milos\\Anaconda3\\envs\\python2.7\\lib\\site-packages\\sklearn\\linear_model\\logistic.py:433: FutureWarning: Default solver will be changed to 'lbfgs' in 0.22. Specify a solver to silence this warning.\n",
      "  FutureWarning)\n",
      "C:\\Users\\Milos\\Anaconda3\\envs\\python2.7\\lib\\site-packages\\sklearn\\linear_model\\logistic.py:433: FutureWarning: Default solver will be changed to 'lbfgs' in 0.22. Specify a solver to silence this warning.\n",
      "  FutureWarning)\n",
      "C:\\Users\\Milos\\Anaconda3\\envs\\python2.7\\lib\\site-packages\\sklearn\\linear_model\\logistic.py:433: FutureWarning: Default solver will be changed to 'lbfgs' in 0.22. Specify a solver to silence this warning.\n",
      "  FutureWarning)\n",
      "C:\\Users\\Milos\\Anaconda3\\envs\\python2.7\\lib\\site-packages\\sklearn\\linear_model\\logistic.py:433: FutureWarning: Default solver will be changed to 'lbfgs' in 0.22. Specify a solver to silence this warning.\n",
      "  FutureWarning)\n",
      "C:\\Users\\Milos\\Anaconda3\\envs\\python2.7\\lib\\site-packages\\sklearn\\linear_model\\logistic.py:433: FutureWarning: Default solver will be changed to 'lbfgs' in 0.22. Specify a solver to silence this warning.\n",
      "  FutureWarning)\n",
      "C:\\Users\\Milos\\Anaconda3\\envs\\python2.7\\lib\\site-packages\\sklearn\\linear_model\\logistic.py:433: FutureWarning: Default solver will be changed to 'lbfgs' in 0.22. Specify a solver to silence this warning.\n",
      "  FutureWarning)\n",
      "C:\\Users\\Milos\\Anaconda3\\envs\\python2.7\\lib\\site-packages\\sklearn\\linear_model\\logistic.py:433: FutureWarning: Default solver will be changed to 'lbfgs' in 0.22. Specify a solver to silence this warning.\n",
      "  FutureWarning)\n",
      "C:\\Users\\Milos\\Anaconda3\\envs\\python2.7\\lib\\site-packages\\sklearn\\linear_model\\logistic.py:433: FutureWarning: Default solver will be changed to 'lbfgs' in 0.22. Specify a solver to silence this warning.\n",
      "  FutureWarning)\n",
      "C:\\Users\\Milos\\Anaconda3\\envs\\python2.7\\lib\\site-packages\\sklearn\\linear_model\\logistic.py:433: FutureWarning: Default solver will be changed to 'lbfgs' in 0.22. Specify a solver to silence this warning.\n",
      "  FutureWarning)\n",
      "C:\\Users\\Milos\\Anaconda3\\envs\\python2.7\\lib\\site-packages\\sklearn\\linear_model\\logistic.py:433: FutureWarning: Default solver will be changed to 'lbfgs' in 0.22. Specify a solver to silence this warning.\n",
      "  FutureWarning)\n",
      "C:\\Users\\Milos\\Anaconda3\\envs\\python2.7\\lib\\site-packages\\sklearn\\linear_model\\logistic.py:433: FutureWarning: Default solver will be changed to 'lbfgs' in 0.22. Specify a solver to silence this warning.\n",
      "  FutureWarning)\n",
      "C:\\Users\\Milos\\Anaconda3\\envs\\python2.7\\lib\\site-packages\\sklearn\\linear_model\\logistic.py:433: FutureWarning: Default solver will be changed to 'lbfgs' in 0.22. Specify a solver to silence this warning.\n",
      "  FutureWarning)\n",
      "C:\\Users\\Milos\\Anaconda3\\envs\\python2.7\\lib\\site-packages\\sklearn\\linear_model\\logistic.py:433: FutureWarning: Default solver will be changed to 'lbfgs' in 0.22. Specify a solver to silence this warning.\n",
      "  FutureWarning)\n",
      "C:\\Users\\Milos\\Anaconda3\\envs\\python2.7\\lib\\site-packages\\sklearn\\linear_model\\logistic.py:433: FutureWarning: Default solver will be changed to 'lbfgs' in 0.22. Specify a solver to silence this warning.\n",
      "  FutureWarning)\n",
      "C:\\Users\\Milos\\Anaconda3\\envs\\python2.7\\lib\\site-packages\\sklearn\\linear_model\\logistic.py:433: FutureWarning: Default solver will be changed to 'lbfgs' in 0.22. Specify a solver to silence this warning.\n",
      "  FutureWarning)\n",
      "C:\\Users\\Milos\\Anaconda3\\envs\\python2.7\\lib\\site-packages\\sklearn\\linear_model\\logistic.py:433: FutureWarning: Default solver will be changed to 'lbfgs' in 0.22. Specify a solver to silence this warning.\n",
      "  FutureWarning)\n",
      "C:\\Users\\Milos\\Anaconda3\\envs\\python2.7\\lib\\site-packages\\sklearn\\linear_model\\logistic.py:433: FutureWarning: Default solver will be changed to 'lbfgs' in 0.22. Specify a solver to silence this warning.\n",
      "  FutureWarning)\n",
      "C:\\Users\\Milos\\Anaconda3\\envs\\python2.7\\lib\\site-packages\\sklearn\\linear_model\\logistic.py:433: FutureWarning: Default solver will be changed to 'lbfgs' in 0.22. Specify a solver to silence this warning.\n",
      "  FutureWarning)\n",
      "C:\\Users\\Milos\\Anaconda3\\envs\\python2.7\\lib\\site-packages\\sklearn\\linear_model\\logistic.py:433: FutureWarning: Default solver will be changed to 'lbfgs' in 0.22. Specify a solver to silence this warning.\n",
      "  FutureWarning)\n",
      "C:\\Users\\Milos\\Anaconda3\\envs\\python2.7\\lib\\site-packages\\sklearn\\linear_model\\logistic.py:433: FutureWarning: Default solver will be changed to 'lbfgs' in 0.22. Specify a solver to silence this warning.\n",
      "  FutureWarning)\n",
      "C:\\Users\\Milos\\Anaconda3\\envs\\python2.7\\lib\\site-packages\\sklearn\\linear_model\\logistic.py:433: FutureWarning: Default solver will be changed to 'lbfgs' in 0.22. Specify a solver to silence this warning.\n",
      "  FutureWarning)\n",
      "C:\\Users\\Milos\\Anaconda3\\envs\\python2.7\\lib\\site-packages\\sklearn\\linear_model\\logistic.py:433: FutureWarning: Default solver will be changed to 'lbfgs' in 0.22. Specify a solver to silence this warning.\n",
      "  FutureWarning)\n",
      "C:\\Users\\Milos\\Anaconda3\\envs\\python2.7\\lib\\site-packages\\sklearn\\linear_model\\logistic.py:433: FutureWarning: Default solver will be changed to 'lbfgs' in 0.22. Specify a solver to silence this warning.\n",
      "  FutureWarning)\n",
      "C:\\Users\\Milos\\Anaconda3\\envs\\python2.7\\lib\\site-packages\\sklearn\\linear_model\\logistic.py:433: FutureWarning: Default solver will be changed to 'lbfgs' in 0.22. Specify a solver to silence this warning.\n",
      "  FutureWarning)\n",
      "C:\\Users\\Milos\\Anaconda3\\envs\\python2.7\\lib\\site-packages\\sklearn\\linear_model\\logistic.py:433: FutureWarning: Default solver will be changed to 'lbfgs' in 0.22. Specify a solver to silence this warning.\n",
      "  FutureWarning)\n"
     ]
    },
    {
     "data": {
      "text/plain": [
       "GridSearchCV(cv=5, error_score='raise-deprecating',\n",
       "       estimator=LogisticRegression(C=1.0, class_weight=None, dual=False, fit_intercept=True,\n",
       "          intercept_scaling=1, max_iter=100, multi_class='warn',\n",
       "          n_jobs=None, penalty='l2', random_state=None, solver='warn',\n",
       "          tol=0.0001, verbose=0, warm_start=False),\n",
       "       fit_params=None, iid='warn', n_jobs=None,\n",
       "       param_grid=[{'C': array([1.e+05, 1.e+04, 1.e+03, 1.e+02, 1.e+01, 1.e+00, 1.e-01, 1.e-02,\n",
       "       1.e-03, 1.e-04, 1.e-05, 1.e-06, 1.e-07])}],\n",
       "       pre_dispatch='2*n_jobs', refit='roc_auc', return_train_score='warn',\n",
       "       scoring=['accuracy', 'roc_auc'], verbose=0)"
      ]
     },
     "execution_count": 9,
     "metadata": {},
     "output_type": "execute_result"
    }
   ],
   "source": [
    "from sklearn.linear_model import LogisticRegression\n",
    "from sklearn.model_selection import GridSearchCV\n",
    "\n",
    "lmbdas=np.logspace(-5,7,13)\n",
    "parameters = [{'C': 1./lmbdas}]\n",
    "scoring = ['accuracy', 'roc_auc']\n",
    "logReg = LogisticRegression()\n",
    "gridSearch = GridSearchCV(logReg, parameters, cv=5, scoring=scoring, refit='roc_auc') \n",
    "# \"refit\" gives the metric used deciding best model. \n",
    "# See more http://scikit-learn.org/stable/auto_examples/model_selection/plot_multi_metric_evaluation.html\n",
    "gridSearch.fit(XTrain, yTrain.ravel())"
   ]
  },
  {
   "cell_type": "code",
   "execution_count": 10,
   "metadata": {},
   "outputs": [
    {
     "name": "stdout",
     "output_type": "stream",
     "text": [
      "Best: 0.723594 using {'C': 0.1}\n",
      "0.723494 (0.008033) with: {'C': 99999.99999999999}\n",
      "0.723494 (0.008033) with: {'C': 10000.0}\n",
      "0.723495 (0.008032) with: {'C': 1000.0}\n",
      "0.723495 (0.008033) with: {'C': 100.0}\n",
      "0.723496 (0.008036) with: {'C': 10.0}\n",
      "0.723518 (0.008049) with: {'C': 1.0}\n",
      "0.723594 (0.008033) with: {'C': 0.1}\n",
      "0.723440 (0.007838) with: {'C': 0.01}\n",
      "0.717568 (0.007688) with: {'C': 0.001}\n",
      "0.705035 (0.007697) with: {'C': 0.0001}\n",
      "0.699007 (0.007833) with: {'C': 1e-05}\n",
      "0.698128 (0.007831) with: {'C': 1e-06}\n",
      "0.698044 (0.007811) with: {'C': 1e-07}\n"
     ]
    }
   ],
   "source": [
    "def gridSearchSummary(method, scoring):\n",
    "    \"\"\"Prints best parameters from Grid search\n",
    "    and AUC with standard deviation for all \n",
    "    parameter combos \"\"\"\n",
    "    \n",
    "    method = eval(method)\n",
    "    if scoring == 'accuracy':\n",
    "        mean = 'mean_test_score'\n",
    "        sd = 'std_test_score'\n",
    "    elif scoring == 'auc':\n",
    "        mean = 'mean_test_roc_auc'\n",
    "        sd = 'std_test_roc_auc'\n",
    "    print(\"Best: %f using %s\" % (method.best_score_, method.best_params_))\n",
    "    means = method.cv_results_[mean]\n",
    "    stds = method.cv_results_[sd]\n",
    "    params = method.cv_results_['params']\n",
    "    for mean, stdev, param in zip(means, stds, params):\n",
    "        print(\"%f (%f) with: %r\" % (mean, stdev, param))\n",
    "\n",
    "gridSearchSummary('gridSearch', 'auc')"
   ]
  },
  {
   "cell_type": "code",
   "execution_count": 39,
   "metadata": {},
   "outputs": [],
   "source": [
    "def createConfusionMatrix(method, printOut=True):\n",
    "        \"\"\"\n",
    "        Computes and prints confusion matrices, accuracy scores,\n",
    "        and AUC for test and training sets \n",
    "        \"\"\"\n",
    "        confusionArray = np.zeros(6, dtype=object)\n",
    "        method = eval(method)\n",
    "\n",
    "        # Train\n",
    "        yPredTrain = method.predict(XTrain)\n",
    "        yPredTrain = (yPredTrain > 0.5)\n",
    "        cm = confusion_matrix(\n",
    "            yTrain, yPredTrain) \n",
    "        cm = np.around(cm/cm.sum(axis=1)[:,None], 2)\n",
    "        confusionArray[0] = cm\n",
    "\n",
    "        accScore = accuracy_score(yTrain, yPredTrain)\n",
    "        confusionArray[1] = accScore\n",
    "\n",
    "        AUC = roc_auc_score(yTrain, yPredTrain)\n",
    "        confusionArray[2] = AUC\n",
    "\n",
    "        if printOut:\n",
    "            print('\\n###################  Training  ###############')\n",
    "            print('\\nTraining Confusion matrix: \\n', cm)\n",
    "            print('\\nTraining Accuracy score: \\n', accScore)\n",
    "            print('\\nTrain AUC: \\n', AUC)\n",
    "\n",
    "        # Test\n",
    "        yPred = method.predict(XTest)\n",
    "        yPred = (yPred > 0.5)\n",
    "        cm = confusion_matrix(\n",
    "            yTest, yPred) \n",
    "        cm = np.around(cm/cm.sum(axis=1)[:,None], 2)\n",
    "        confusionArray[3] = cm\n",
    "\n",
    "        accScore = accuracy_score(yTest, yPred)\n",
    "        confusionArray[4] = accScore\n",
    "\n",
    "        AUC = roc_auc_score(yTest, yPred)\n",
    "        confusionArray[5] = AUC\n",
    "\n",
    "        if printOut:\n",
    "            print('\\n###################  Testing  ###############')\n",
    "            print('\\nTest Confusion matrix: \\n', cm)\n",
    "            print('\\nTest Accuracy score: \\n', accScore)\n",
    "            print('\\nTestAUC: \\n', AUC)    \n",
    "\n",
    "        return confusionArray\n",
    "\n",
    "\n",
    "   "
   ]
  },
  {
   "cell_type": "code",
   "execution_count": 43,
   "metadata": {},
   "outputs": [
    {
     "name": "stdout",
     "output_type": "stream",
     "text": [
      "(15000,) (15000, 2)\n"
     ]
    },
    {
     "name": "stderr",
     "output_type": "stream",
     "text": [
      "C:\\Users\\Milos\\Anaconda3\\envs\\python2.7\\lib\\site-packages\\matplotlib\\cbook\\__init__.py:424: MatplotlibDeprecationWarning: \n",
      "Passing one of 'on', 'true', 'off', 'false' as a boolean is deprecated; use an actual boolean (True/False) instead.\n",
      "  warn_deprecated(\"2.2\", \"Passing one of 'on', 'true', 'off', 'false' as a \"\n",
      "C:\\Users\\Milos\\Anaconda3\\envs\\python2.7\\lib\\site-packages\\ipykernel_launcher.py:22: DeprecationWarning: object of type <class 'numpy.ndarray'> cannot be safely interpreted as an integer.\n"
     ]
    },
    {
     "data": {
      "image/png": "[encoded data removed]",
      "text/plain": [
       "<Figure size 432x288 with 1 Axes>"
      ]
     },
     "metadata": {},
     "output_type": "display_data"
    },
    {
     "ename": "NameError",
     "evalue": "name 'fig' is not defined",
     "output_type": "error",
     "traceback": [
      "\u001b[1;31m---------------------------------------------------------------------------\u001b[0m",
      "\u001b[1;31mNameError\u001b[0m                                 Traceback (most recent call last)",
      "\u001b[1;32m<ipython-input-43-93f1a1674ffd>\u001b[0m in \u001b[0;36m<module>\u001b[1;34m\u001b[0m\n\u001b[0;32m     30\u001b[0m \u001b[0mplt\u001b[0m\u001b[1;33m.\u001b[0m\u001b[0mshow\u001b[0m\u001b[1;33m(\u001b[0m\u001b[1;33m)\u001b[0m\u001b[1;33m\u001b[0m\u001b[1;33m\u001b[0m\u001b[0m\n\u001b[0;32m     31\u001b[0m \u001b[1;33m\u001b[0m\u001b[0m\n\u001b[1;32m---> 32\u001b[1;33m \u001b[0mfig\u001b[0m\u001b[1;33m.\u001b[0m\u001b[0msavefig\u001b[0m\u001b[1;33m(\u001b[0m\u001b[1;34m'LogReg.png'\u001b[0m\u001b[1;33m)\u001b[0m\u001b[1;33m\u001b[0m\u001b[1;33m\u001b[0m\u001b[0m\n\u001b[0m",
      "\u001b[1;31mNameError\u001b[0m: name 'fig' is not defined"
     ]
    }
   ],
   "source": [
    "    confusionArrayLogreg = createConfusionMatrix('gridSearch', printOut=False)\n",
    "    import matplotlib.pyplot as plt\n",
    "    import seaborn\n",
    "    import scikitplot as skplt\n",
    "    from scikitplot import metrics\n",
    "\n",
    "    seaborn.set(style=\"white\", context=\"notebook\", font_scale=1.5, \n",
    "                rc={\"axes.grid\": True, \"legend.frameon\": False,\n",
    "    \"lines.markeredgewidth\": 1.4, \"lines.markersize\": 10})\n",
    "    seaborn.set_context(\"notebook\", font_scale=1.5, rc={\"lines.linewidth\": 4.5})\n",
    "\n",
    "    yPred = gridSearch.predict_proba(XTest) \n",
    "    print(yTest.ravel().shape, yPred.shape)\n",
    "    skplt.metrics.plot_cumulative_gain(yTest.ravel(), yPred)\n",
    "\n",
    "    defaults = sum(yTest == 1)\n",
    "    total = len(yTest)\n",
    "    defaultRate = defaults/total\n",
    "    def bestCurve(defaults, total, defaultRate):\n",
    "        x = np.linspace(0, 1, total)\n",
    "\n",
    "        y1 = np.linspace(0, 1, defaults)\n",
    "        y2 = np.ones(total-defaults)\n",
    "        y3 = np.concatenate([y1,y2])\n",
    "        return x, y3\n",
    "\n",
    "    x, best = bestCurve(defaults=defaults, total=total, defaultRate=defaultRate)    \n",
    "    plt.plot(x, best)    \n",
    "\n",
    "    plt.show()\n",
    "    \n",
    "    "
   ]
  },
  {
   "cell_type": "code",
   "execution_count": null,
   "metadata": {},
   "outputs": [],
   "source": []
  },
  {
   "cell_type": "code",
   "execution_count": null,
   "metadata": {},
   "outputs": [],
   "source": []
  }
 ],
 "metadata": {
  "kernelspec": {
   "display_name": "Python 3",
   "language": "python",
   "name": "python3"
  },
  "language_info": {
   "codemirror_mode": {
    "name": "ipython",
    "version": 3
   },
   "file_extension": ".py",
   "mimetype": "text/x-python",
   "name": "python",
   "nbconvert_exporter": "python",
   "pygments_lexer": "ipython3",
   "version": "3.6.8"
  }
 },
 "nbformat": 4,
 "nbformat_minor": 2
}
